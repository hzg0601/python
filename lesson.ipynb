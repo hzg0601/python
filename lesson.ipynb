{
 "cells": [
  {
   "cell_type": "markdown",
   "metadata": {},
   "source": [
    "cities=[\"a\",\"b\",\"c\"]\n",
    "for city in cities:\n",
    "    print(city)\n",
    "print(123)"
   ]
  },
  {
   "cell_type": "code",
   "execution_count": 4,
   "metadata": {},
   "outputs": [
    {
     "name": "stdout",
     "output_type": "stream",
     "text": [
      "1\n",
      "2\n",
      "3\n"
     ]
    }
   ],
   "source": [
    "i=0\n",
    "while i<3:\n",
    "    i+=1\n",
    "    print(i)"
   ]
  },
  {
   "cell_type": "code",
   "execution_count": 5,
   "metadata": {},
   "outputs": [
    {
     "name": "stdout",
     "output_type": "stream",
     "text": [
      "0\n",
      "1\n",
      "2\n",
      "3\n",
      "4\n",
      "5\n",
      "6\n",
      "7\n",
      "8\n",
      "9\n",
      "10\n",
      "11\n",
      "12\n",
      "13\n",
      "14\n"
     ]
    }
   ],
   "source": [
    "for i in range(15):\n",
    "    print(i)"
   ]
  },
  {
   "cell_type": "code",
   "execution_count": 7,
   "metadata": {},
   "outputs": [
    {
     "name": "stdout",
     "output_type": "stream",
     "text": [
      "a\n",
      "b\n",
      "c\n",
      "d\n",
      "e\n",
      "f\n"
     ]
    }
   ],
   "source": [
    "cities=[[\"a\",\"b\",\"c\"],[\"d\",\"e\",\"f\"]]\n",
    "for i in cities:\n",
    "    for j in i:\n",
    "        print(j)"
   ]
  },
  {
   "cell_type": "code",
   "execution_count": 10,
   "metadata": {},
   "outputs": [
    {
     "name": "stdout",
     "output_type": "stream",
     "text": [
      "75\n"
     ]
    }
   ],
   "source": [
    "students=[\"tom\",\"jim\",\"ann\",\"sue\"]\n",
    "scores=[70,80,85,75]\n",
    "indexes=[0,1,2,3]\n",
    "name=\"sue\"\n",
    "score=0\n",
    "for i in indexes:\n",
    "    if students[i]==name:\n",
    "        score=scores[i]\n",
    "print(score)"
   ]
  },
  {
   "cell_type": "code",
   "execution_count": 12,
   "metadata": {},
   "outputs": [
    {
     "name": "stdout",
     "output_type": "stream",
     "text": [
      "<class 'dict'>\n",
      "{'jim': 80, 'sue': 85}\n",
      "80\n"
     ]
    }
   ],
   "source": [
    "scores={}\n",
    "print(type(scores))\n",
    "scores[\"jim\"]=80\n",
    "scores[\"sue\"]=85\n",
    "print(scores)\n",
    "print(scores[\"jim\"])"
   ]
  },
  {
   "cell_type": "code",
   "execution_count": 18,
   "metadata": {},
   "outputs": [
    {
     "name": "stdout",
     "output_type": "stream",
     "text": [
      "70\n"
     ]
    }
   ],
   "source": [
    "students={\n",
    "    \"tom\":60,\n",
    "    \"jim\":70\n",
    "}\n",
    "print(students[\"jim\"])"
   ]
  },
  {
   "cell_type": "code",
   "execution_count": 22,
   "metadata": {},
   "outputs": [
    {
     "name": "stdout",
     "output_type": "stream",
     "text": [
      "{'fa': 1, 'fb': 1, 'fc': 2, 'fd': 3}\n"
     ]
    }
   ],
   "source": [
    "pantry=[\"fa\",\"fb\",\"fc\",\"fc\",\"fd\",\"fd\",\"fd\"]\n",
    "pantry_c={}\n",
    "for i in pantry:\n",
    "    if i in pantry_c:\n",
    "        pantry_c[i]+=1\n",
    "    else: \n",
    "        pantry_c[i]=1\n",
    "print(pantry_c)"
   ]
  },
  {
   "cell_type": "code",
   "execution_count": 30,
   "metadata": {},
   "outputs": [
    {
     "name": "stdout",
     "output_type": "stream",
     "text": [
      "<class 'numpy.ndarray'>\n",
      "[['1986' 'Western Pacific' 'Viet Nam' 'Wine' '0']\n",
      " ['1986' 'Americas' 'Uruguay' 'Other' '0.5']\n",
      " ['1985' 'Africa' \"Cte d'Ivoire\" 'Wine' '1.62']\n",
      " ..., \n",
      " ['1987' 'Africa' 'Malawi' 'Other' '0.75']\n",
      " ['1989' 'Americas' 'Bahamas' 'Wine' '1.5']\n",
      " ['1985' 'Africa' 'Malawi' 'Spirits' '0.31']]\n"
     ]
    }
   ],
   "source": [
    "import numpy\n",
    "w_a=numpy.genfromtxt(\"C:\\\\Users\\\\hzg0601\\\\Desktop\\\\world_alcohol.txt\",delimiter=\",\",dtype=str,skip_header=1)\n",
    "print(type(w_a))\n",
    "print(w_a)\n",
    "\n"
   ]
  },
  {
   "cell_type": "code",
   "execution_count": 31,
   "metadata": {},
   "outputs": [
    {
     "name": "stdout",
     "output_type": "stream",
     "text": [
      "[ 0  1  2  3  4  5  6  7  8  9 10 11 12 13 14]\n"
     ]
    },
    {
     "data": {
      "text/plain": [
       "array([[ 0,  1,  2,  3,  4],\n",
       "       [ 5,  6,  7,  8,  9],\n",
       "       [10, 11, 12, 13, 14]])"
      ]
     },
     "execution_count": 31,
     "metadata": {},
     "output_type": "execute_result"
    }
   ],
   "source": [
    "import numpy as np\n",
    "print(np.arange(15))\n",
    "a=np.arange(15).reshape(3,5)\n",
    "a"
   ]
  },
  {
   "cell_type": "code",
   "execution_count": 32,
   "metadata": {},
   "outputs": [
    {
     "data": {
      "text/plain": [
       "(3, 5)"
      ]
     },
     "execution_count": 32,
     "metadata": {},
     "output_type": "execute_result"
    }
   ],
   "source": [
    "a.shape"
   ]
  },
  {
   "cell_type": "code",
   "execution_count": 33,
   "metadata": {},
   "outputs": [
    {
     "data": {
      "text/plain": [
       "2"
      ]
     },
     "execution_count": 33,
     "metadata": {},
     "output_type": "execute_result"
    }
   ],
   "source": [
    "a.ndim"
   ]
  },
  {
   "cell_type": "code",
   "execution_count": 34,
   "metadata": {},
   "outputs": [
    {
     "data": {
      "text/plain": [
       "'int32'"
      ]
     },
     "execution_count": 34,
     "metadata": {},
     "output_type": "execute_result"
    }
   ],
   "source": [
    "a.dtype.name"
   ]
  },
  {
   "cell_type": "code",
   "execution_count": 35,
   "metadata": {},
   "outputs": [
    {
     "data": {
      "text/plain": [
       "15"
      ]
     },
     "execution_count": 35,
     "metadata": {},
     "output_type": "execute_result"
    }
   ],
   "source": [
    "a.size"
   ]
  },
  {
   "cell_type": "code",
   "execution_count": 36,
   "metadata": {},
   "outputs": [
    {
     "data": {
      "text/plain": [
       "array([[ 0.,  0.,  0.,  0.],\n",
       "       [ 0.,  0.,  0.,  0.],\n",
       "       [ 0.,  0.,  0.,  0.]])"
      ]
     },
     "execution_count": 36,
     "metadata": {},
     "output_type": "execute_result"
    }
   ],
   "source": [
    "np.zeros((3,4))"
   ]
  },
  {
   "cell_type": "code",
   "execution_count": 38,
   "metadata": {},
   "outputs": [
    {
     "data": {
      "text/plain": [
       "array([[[1, 1, 1, 1],\n",
       "        [1, 1, 1, 1],\n",
       "        [1, 1, 1, 1]],\n",
       "\n",
       "       [[1, 1, 1, 1],\n",
       "        [1, 1, 1, 1],\n",
       "        [1, 1, 1, 1]]])"
      ]
     },
     "execution_count": 38,
     "metadata": {},
     "output_type": "execute_result"
    }
   ],
   "source": [
    "np.ones((2,3,4),dtype=np.int32)"
   ]
  },
  {
   "cell_type": "code",
   "execution_count": 39,
   "metadata": {},
   "outputs": [
    {
     "data": {
      "text/plain": [
       "array([10, 15, 20, 25])"
      ]
     },
     "execution_count": 39,
     "metadata": {},
     "output_type": "execute_result"
    }
   ],
   "source": [
    "np.arange(10,30,5)"
   ]
  },
  {
   "cell_type": "code",
   "execution_count": 40,
   "metadata": {},
   "outputs": [
    {
     "data": {
      "text/plain": [
       "array([[ 0,  1,  2],\n",
       "       [ 3,  4,  5],\n",
       "       [ 6,  7,  8],\n",
       "       [ 9, 10, 11]])"
      ]
     },
     "execution_count": 40,
     "metadata": {},
     "output_type": "execute_result"
    }
   ],
   "source": [
    "np.arange(12).reshape(4,3)"
   ]
  },
  {
   "cell_type": "code",
   "execution_count": 42,
   "metadata": {},
   "outputs": [
    {
     "data": {
      "text/plain": [
       "array([[-0.53997859, -0.54897707,  0.89035827],\n",
       "       [-0.99747839,  0.78170367,  0.25879692]])"
      ]
     },
     "execution_count": 42,
     "metadata": {},
     "output_type": "execute_result"
    }
   ],
   "source": [
    "np.random.random((2,3))*2-1#0~1"
   ]
  },
  {
   "cell_type": "code",
   "execution_count": 43,
   "metadata": {},
   "outputs": [
    {
     "data": {
      "text/plain": [
       "array([ 0.        ,  0.06346652,  0.12693304,  0.19039955,  0.25386607,\n",
       "        0.31733259,  0.38079911,  0.44426563,  0.50773215,  0.57119866,\n",
       "        0.63466518,  0.6981317 ,  0.76159822,  0.82506474,  0.88853126,\n",
       "        0.95199777,  1.01546429,  1.07893081,  1.14239733,  1.20586385,\n",
       "        1.26933037,  1.33279688,  1.3962634 ,  1.45972992,  1.52319644,\n",
       "        1.58666296,  1.65012947,  1.71359599,  1.77706251,  1.84052903,\n",
       "        1.90399555,  1.96746207,  2.03092858,  2.0943951 ,  2.15786162,\n",
       "        2.22132814,  2.28479466,  2.34826118,  2.41172769,  2.47519421,\n",
       "        2.53866073,  2.60212725,  2.66559377,  2.72906028,  2.7925268 ,\n",
       "        2.85599332,  2.91945984,  2.98292636,  3.04639288,  3.10985939,\n",
       "        3.17332591,  3.23679243,  3.30025895,  3.36372547,  3.42719199,\n",
       "        3.4906585 ,  3.55412502,  3.61759154,  3.68105806,  3.74452458,\n",
       "        3.8079911 ,  3.87145761,  3.93492413,  3.99839065,  4.06185717,\n",
       "        4.12532369,  4.1887902 ,  4.25225672,  4.31572324,  4.37918976,\n",
       "        4.44265628,  4.5061228 ,  4.56958931,  4.63305583,  4.69652235,\n",
       "        4.75998887,  4.82345539,  4.88692191,  4.95038842,  5.01385494,\n",
       "        5.07732146,  5.14078798,  5.2042545 ,  5.26772102,  5.33118753,\n",
       "        5.39465405,  5.45812057,  5.52158709,  5.58505361,  5.64852012,\n",
       "        5.71198664,  5.77545316,  5.83891968,  5.9023862 ,  5.96585272,\n",
       "        6.02931923,  6.09278575,  6.15625227,  6.21971879,  6.28318531])"
      ]
     },
     "execution_count": 43,
     "metadata": {},
     "output_type": "execute_result"
    }
   ],
   "source": [
    "from numpy import pi\n",
    "np.linspace(0,2*pi,100)"
   ]
  },
  {
   "cell_type": "code",
   "execution_count": 48,
   "metadata": {},
   "outputs": [
    {
     "name": "stdout",
     "output_type": "stream",
     "text": [
      "[[ 60 110]\n",
      " [100 190]]\n",
      "[[ 60 110]\n",
      " [100 190]]\n",
      "[[  0  30]\n",
      " [ 80 150]]\n"
     ]
    }
   ],
   "source": [
    "#np.sin(np.)\n",
    "a=np.array([20,30,40,50]).reshape(2,2)\n",
    "b=np.arange(4).reshape(2,2)\n",
    "a-b\n",
    "print(a.dot(b))\n",
    "print(np.dot(a,b))\n",
    "print(a*b)#对应相乘"
   ]
  },
  {
   "cell_type": "code",
   "execution_count": 3,
   "metadata": {},
   "outputs": [
    {
     "name": "stdout",
     "output_type": "stream",
     "text": [
      "Help on function genfromtxt in module numpy.lib.npyio:\n",
      "\n",
      "genfromtxt(fname, dtype=<class 'float'>, comments='#', delimiter=None, skip_header=0, skip_footer=0, converters=None, missing_values=None, filling_values=None, usecols=None, names=None, excludelist=None, deletechars=None, replace_space='_', autostrip=False, case_sensitive=True, defaultfmt='f%i', unpack=None, usemask=False, loose=True, invalid_raise=True, max_rows=None)\n",
      "    Load data from a text file, with missing values handled as specified.\n",
      "    \n",
      "    Each line past the first `skip_header` lines is split at the `delimiter`\n",
      "    character, and characters following the `comments` character are discarded.\n",
      "    \n",
      "    Parameters\n",
      "    ----------\n",
      "    fname : file, str, list of str, generator\n",
      "        File, filename, list, or generator to read.  If the filename\n",
      "        extension is `.gz` or `.bz2`, the file is first decompressed. Mote\n",
      "        that generators must return byte strings in Python 3k.  The strings\n",
      "        in a list or produced by a generator are treated as lines.\n",
      "    dtype : dtype, optional\n",
      "        Data type of the resulting array.\n",
      "        If None, the dtypes will be determined by the contents of each\n",
      "        column, individually.\n",
      "    comments : str, optional\n",
      "        The character used to indicate the start of a comment.\n",
      "        All the characters occurring on a line after a comment are discarded\n",
      "    delimiter : str, int, or sequence, optional\n",
      "        The string used to separate values.  By default, any consecutive\n",
      "        whitespaces act as delimiter.  An integer or sequence of integers\n",
      "        can also be provided as width(s) of each field.\n",
      "    skiprows : int, optional\n",
      "        `skiprows` was removed in numpy 1.10. Please use `skip_header` instead.\n",
      "    skip_header : int, optional\n",
      "        The number of lines to skip at the beginning of the file.\n",
      "    skip_footer : int, optional\n",
      "        The number of lines to skip at the end of the file.\n",
      "    converters : variable, optional\n",
      "        The set of functions that convert the data of a column to a value.\n",
      "        The converters can also be used to provide a default value\n",
      "        for missing data: ``converters = {3: lambda s: float(s or 0)}``.\n",
      "    missing : variable, optional\n",
      "        `missing` was removed in numpy 1.10. Please use `missing_values`\n",
      "        instead.\n",
      "    missing_values : variable, optional\n",
      "        The set of strings corresponding to missing data.\n",
      "    filling_values : variable, optional\n",
      "        The set of values to be used as default when the data are missing.\n",
      "    usecols : sequence, optional\n",
      "        Which columns to read, with 0 being the first.  For example,\n",
      "        ``usecols = (1, 4, 5)`` will extract the 2nd, 5th and 6th columns.\n",
      "    names : {None, True, str, sequence}, optional\n",
      "        If `names` is True, the field names are read from the first valid line\n",
      "        after the first `skip_header` lines.\n",
      "        If `names` is a sequence or a single-string of comma-separated names,\n",
      "        the names will be used to define the field names in a structured dtype.\n",
      "        If `names` is None, the names of the dtype fields will be used, if any.\n",
      "    excludelist : sequence, optional\n",
      "        A list of names to exclude. This list is appended to the default list\n",
      "        ['return','file','print']. Excluded names are appended an underscore:\n",
      "        for example, `file` would become `file_`.\n",
      "    deletechars : str, optional\n",
      "        A string combining invalid characters that must be deleted from the\n",
      "        names.\n",
      "    defaultfmt : str, optional\n",
      "        A format used to define default field names, such as \"f%i\" or \"f_%02i\".\n",
      "    autostrip : bool, optional\n",
      "        Whether to automatically strip white spaces from the variables.\n",
      "    replace_space : char, optional\n",
      "        Character(s) used in replacement of white spaces in the variables\n",
      "        names. By default, use a '_'.\n",
      "    case_sensitive : {True, False, 'upper', 'lower'}, optional\n",
      "        If True, field names are case sensitive.\n",
      "        If False or 'upper', field names are converted to upper case.\n",
      "        If 'lower', field names are converted to lower case.\n",
      "    unpack : bool, optional\n",
      "        If True, the returned array is transposed, so that arguments may be\n",
      "        unpacked using ``x, y, z = loadtxt(...)``\n",
      "    usemask : bool, optional\n",
      "        If True, return a masked array.\n",
      "        If False, return a regular array.\n",
      "    loose : bool, optional\n",
      "        If True, do not raise errors for invalid values.\n",
      "    invalid_raise : bool, optional\n",
      "        If True, an exception is raised if an inconsistency is detected in the\n",
      "        number of columns.\n",
      "        If False, a warning is emitted and the offending lines are skipped.\n",
      "    max_rows : int,  optional\n",
      "        The maximum number of rows to read. Must not be used with skip_footer\n",
      "        at the same time.  If given, the value must be at least 1. Default is\n",
      "        to read the entire file.\n",
      "    \n",
      "        .. versionadded:: 1.10.0\n",
      "    \n",
      "    Returns\n",
      "    -------\n",
      "    out : ndarray\n",
      "        Data read from the text file. If `usemask` is True, this is a\n",
      "        masked array.\n",
      "    \n",
      "    See Also\n",
      "    --------\n",
      "    numpy.loadtxt : equivalent function when no data is missing.\n",
      "    \n",
      "    Notes\n",
      "    -----\n",
      "    * When spaces are used as delimiters, or when no delimiter has been given\n",
      "      as input, there should not be any missing data between two fields.\n",
      "    * When the variables are named (either by a flexible dtype or with `names`,\n",
      "      there must not be any header in the file (else a ValueError\n",
      "      exception is raised).\n",
      "    * Individual values are not stripped of spaces by default.\n",
      "      When using a custom converter, make sure the function does remove spaces.\n",
      "    \n",
      "    References\n",
      "    ----------\n",
      "    .. [1] Numpy User Guide, section `I/O with Numpy\n",
      "           <http://docs.scipy.org/doc/numpy/user/basics.io.genfromtxt.html>`_.\n",
      "    \n",
      "    Examples\n",
      "    ---------\n",
      "    >>> from io import StringIO\n",
      "    >>> import numpy as np\n",
      "    \n",
      "    Comma delimited file with mixed dtype\n",
      "    \n",
      "    >>> s = StringIO(\"1,1.3,abcde\")\n",
      "    >>> data = np.genfromtxt(s, dtype=[('myint','i8'),('myfloat','f8'),\n",
      "    ... ('mystring','S5')], delimiter=\",\")\n",
      "    >>> data\n",
      "    array((1, 1.3, 'abcde'),\n",
      "          dtype=[('myint', '<i8'), ('myfloat', '<f8'), ('mystring', '|S5')])\n",
      "    \n",
      "    Using dtype = None\n",
      "    \n",
      "    >>> s.seek(0) # needed for StringIO example only\n",
      "    >>> data = np.genfromtxt(s, dtype=None,\n",
      "    ... names = ['myint','myfloat','mystring'], delimiter=\",\")\n",
      "    >>> data\n",
      "    array((1, 1.3, 'abcde'),\n",
      "          dtype=[('myint', '<i8'), ('myfloat', '<f8'), ('mystring', '|S5')])\n",
      "    \n",
      "    Specifying dtype and names\n",
      "    \n",
      "    >>> s.seek(0)\n",
      "    >>> data = np.genfromtxt(s, dtype=\"i8,f8,S5\",\n",
      "    ... names=['myint','myfloat','mystring'], delimiter=\",\")\n",
      "    >>> data\n",
      "    array((1, 1.3, 'abcde'),\n",
      "          dtype=[('myint', '<i8'), ('myfloat', '<f8'), ('mystring', '|S5')])\n",
      "    \n",
      "    An example with fixed-width columns\n",
      "    \n",
      "    >>> s = StringIO(\"11.3abcde\")\n",
      "    >>> data = np.genfromtxt(s, dtype=None, names=['intvar','fltvar','strvar'],\n",
      "    ...     delimiter=[1,3,5])\n",
      "    >>> data\n",
      "    array((1, 1.3, 'abcde'),\n",
      "          dtype=[('intvar', '<i8'), ('fltvar', '<f8'), ('strvar', '|S5')])\n",
      "\n",
      "None\n"
     ]
    }
   ],
   "source": [
    "import numpy as np\n",
    "print(help(np.genfromtxt))"
   ]
  },
  {
   "cell_type": "code",
   "execution_count": 4,
   "metadata": {},
   "outputs": [
    {
     "data": {
      "text/plain": [
       "array([False, False, False, False], dtype=bool)"
      ]
     },
     "execution_count": 4,
     "metadata": {},
     "output_type": "execute_result"
    }
   ],
   "source": [
    "vector=np.array([1,2,3,4])\n",
    "vector==10"
   ]
  },
  {
   "cell_type": "code",
   "execution_count": 5,
   "metadata": {},
   "outputs": [
    {
     "name": "stdout",
     "output_type": "stream",
     "text": [
      "[  2.71828183   7.3890561   20.08553692  54.59815003]\n"
     ]
    }
   ],
   "source": [
    "print(np.exp(vector))"
   ]
  },
  {
   "cell_type": "code",
   "execution_count": 6,
   "metadata": {},
   "outputs": [
    {
     "name": "stdout",
     "output_type": "stream",
     "text": [
      "[ 1.          1.41421356  1.73205081  2.        ]\n"
     ]
    }
   ],
   "source": [
    "print(np.sqrt(vector))"
   ]
  },
  {
   "cell_type": "code",
   "execution_count": 11,
   "metadata": {},
   "outputs": [
    {
     "data": {
      "text/plain": [
       "array([[ 1.,  9.,  3.,  5.,  9.,  4.],\n",
       "       [ 3.,  7.,  3.,  5.,  4.,  9.]])"
      ]
     },
     "execution_count": 11,
     "metadata": {},
     "output_type": "execute_result"
    }
   ],
   "source": [
    "a=np.floor(10*np.random.random((3,4)))\n",
    "a.reshape(2,6)"
   ]
  },
  {
   "cell_type": "code",
   "execution_count": 17,
   "metadata": {
    "collapsed": true
   },
   "outputs": [],
   "source": [
    "b=np.random.random((3,4))"
   ]
  },
  {
   "cell_type": "code",
   "execution_count": 19,
   "metadata": {},
   "outputs": [
    {
     "name": "stdout",
     "output_type": "stream",
     "text": [
      "[[ 1.          9.          3.          5.        ]\n",
      " [ 9.          4.          3.          7.        ]\n",
      " [ 3.          5.          4.          9.        ]\n",
      " [ 0.34174164  0.85257082  0.01673457  0.45431449]\n",
      " [ 0.97014968  0.07713323  0.1028344   0.7373009 ]\n",
      " [ 0.26781977  0.8403667   0.77823671  0.11531906]]\n"
     ]
    }
   ],
   "source": [
    "print(np.vstack((a,b)))"
   ]
  },
  {
   "cell_type": "code",
   "execution_count": 20,
   "metadata": {},
   "outputs": [
    {
     "name": "stdout",
     "output_type": "stream",
     "text": [
      "[array([[ 1.,  9.,  3.,  5.]]), array([[ 9.,  4.,  3.,  7.]]), array([[ 3.,  5.,  4.,  9.]])]\n"
     ]
    }
   ],
   "source": [
    "print(np.vsplit(a,3))"
   ]
  },
  {
   "cell_type": "code",
   "execution_count": 21,
   "metadata": {},
   "outputs": [
    {
     "name": "stdout",
     "output_type": "stream",
     "text": [
      "[[ 1.  9.  3.  5.]\n",
      " [ 9.  4.  3.  7.]\n",
      " [ 3.  5.  4.  9.]]\n"
     ]
    }
   ],
   "source": [
    "print(a)"
   ]
  },
  {
   "cell_type": "code",
   "execution_count": 25,
   "metadata": {},
   "outputs": [
    {
     "name": "stdout",
     "output_type": "stream",
     "text": [
      "[array([[ 1.,  9.],\n",
      "       [ 9.,  4.],\n",
      "       [ 3.,  5.]]), array([[ 3.],\n",
      "       [ 3.],\n",
      "       [ 4.]]), array([[ 5.],\n",
      "       [ 7.],\n",
      "       [ 9.]])]\n"
     ]
    }
   ],
   "source": [
    "print(np.hsplit(a,(2,3)))"
   ]
  },
  {
   "cell_type": "code",
   "execution_count": 26,
   "metadata": {},
   "outputs": [
    {
     "name": "stdout",
     "output_type": "stream",
     "text": [
      "False\n"
     ]
    }
   ],
   "source": [
    "print(a is b)"
   ]
  },
  {
   "cell_type": "code",
   "execution_count": 27,
   "metadata": {
    "collapsed": true
   },
   "outputs": [],
   "source": [
    "b.shape=4,3"
   ]
  },
  {
   "cell_type": "code",
   "execution_count": 28,
   "metadata": {},
   "outputs": [
    {
     "name": "stdout",
     "output_type": "stream",
     "text": [
      "1677354362320\n"
     ]
    }
   ],
   "source": [
    "print(id(a))"
   ]
  },
  {
   "cell_type": "code",
   "execution_count": 30,
   "metadata": {},
   "outputs": [],
   "source": [
    "c=a.copy()"
   ]
  },
  {
   "cell_type": "code",
   "execution_count": 3,
   "metadata": {},
   "outputs": [
    {
     "name": "stdout",
     "output_type": "stream",
     "text": [
      "[[ 0.          0.84147098  0.90929743  0.14112001]\n",
      " [-0.7568025  -0.95892427 -0.2794155   0.6569866 ]\n",
      " [ 0.98935825  0.41211849 -0.54402111 -0.99999021]\n",
      " [-0.53657292  0.42016704  0.99060736  0.65028784]\n",
      " [-0.28790332 -0.96139749 -0.75098725  0.14987721]]\n",
      "[2 0 3 1]\n",
      "[ 0.98935825  0.84147098  0.99060736  0.6569866 ]\n"
     ]
    }
   ],
   "source": [
    "import numpy as np\n",
    "data=np.sin(np.arange(20).reshape(5,4))\n",
    "print(data)\n",
    "ind=data.argmax(axis=0)#0按列\n",
    "print(ind)\n",
    "data_max=data[ind,range(data.shape[1])]\n",
    "print(data_max)"
   ]
  },
  {
   "cell_type": "code",
   "execution_count": 22,
   "metadata": {},
   "outputs": [
    {
     "name": "stdout",
     "output_type": "stream",
     "text": [
      "[ 0 10 20 30]\n",
      "(4,)\n",
      "[[ 0 10 20 30  0 10 20 30  0 10 20 30  0 10 20 30  0 10 20 30]\n",
      " [ 0 10 20 30  0 10 20 30  0 10 20 30  0 10 20 30  0 10 20 30]\n",
      " [ 0 10 20 30  0 10 20 30  0 10 20 30  0 10 20 30  0 10 20 30]]\n"
     ]
    }
   ],
   "source": [
    "a=np.arange(0,40,10)#按列排\n",
    "print(a)\n",
    "print(a.shape)\n",
    "b=np.tile(a,(3,5))#复制\n",
    "print(b)"
   ]
  },
  {
   "cell_type": "code",
   "execution_count": 24,
   "metadata": {},
   "outputs": [
    {
     "name": "stdout",
     "output_type": "stream",
     "text": [
      "[ 0 10 20 30]\n",
      "[0 1 2 3]\n"
     ]
    }
   ],
   "source": [
    "print(np.sort(a,axis=0))#按列\n",
    "range(data.shape[1])\n",
    "print(np.argsort(a))"
   ]
  },
  {
   "cell_type": "code",
   "execution_count": 65,
   "metadata": {},
   "outputs": [
    {
     "name": "stdout",
     "output_type": "stream",
     "text": [
      "(8618, 10)\n"
     ]
    },
    {
     "data": {
      "text/plain": [
       "<bound method Series.max of Water_(g)          0.240\n",
       "Protein_(g)        0.280\n",
       "Lipid_Tot_(g)     99.480\n",
       "Ash_(g)            0.000\n",
       "Carbohydrt_(g)     0.000\n",
       "Fiber_TD_(g)       0.000\n",
       "Sugar_Tot_(g)      0.000\n",
       "FA_Sat_(g)        61.924\n",
       "FA_Mono_(g)       28.732\n",
       "FA_Poly_(g)        3.694\n",
       "Name: 2, dtype: float64>"
      ]
     },
     "execution_count": 65,
     "metadata": {},
     "output_type": "execute_result"
    }
   ],
   "source": [
    "import pandas as ps\n",
    "fs=ps.read_csv(\"C:\\\\Users\\\\hzg0601\\\\Desktop\\\\books\\\\food_info.csv\")\n",
    "fs.dtypes#数据框，object字符类型\n",
    "#help(ps.read_csv)\n",
    "#fs.head()\n",
    "fs.head(3)\n",
    "fs.tail(3)\n",
    "fs.columns\n",
    "fs.shape\n",
    "#fs.loc[4:6]\n",
    "#fs.loc[[2,3,4]]\n",
    "fs[[\"NDB_No\",\"Zinc_(mg)\"]]\n",
    "\n",
    "####################################################################\n",
    "cn=fs.columns.tolist()\n",
    "gram_c=[]\n",
    "for c in cn:\n",
    "    if c.endswith(\"(g)\"):\n",
    "        gram_c.append(c)#添加\n",
    "grd=fs[gram_c]\n",
    "print(grd.shape)\n",
    "grdq=grd.loc[2]\n",
    "grdt=(grd/1000-10)*2\n",
    "fsn=fs.copy()\n",
    "#fs[\"nw\"]=grdt\n",
    "fsn[\"nw\"]=grdq\n",
    "grdq.max"
   ]
  },
  {
   "cell_type": "code",
   "execution_count": 71,
   "metadata": {},
   "outputs": [],
   "source": [
    "fs.sort_values(\"Sodium_(mg)\",inplace=1,ascending=0)#默认从小到大"
   ]
  },
  {
   "cell_type": "code",
   "execution_count": 105,
   "metadata": {},
   "outputs": [
    {
     "name": "stdout",
     "output_type": "stream",
     "text": [
      "0      False\n",
      "1      False\n",
      "2      False\n",
      "3      False\n",
      "4      False\n",
      "5       True\n",
      "6      False\n",
      "7      False\n",
      "8      False\n",
      "9      False\n",
      "10     False\n",
      "11     False\n",
      "12     False\n",
      "13     False\n",
      "14     False\n",
      "15     False\n",
      "16     False\n",
      "17      True\n",
      "18     False\n",
      "19      True\n",
      "20     False\n",
      "21     False\n",
      "22     False\n",
      "23     False\n",
      "24     False\n",
      "25     False\n",
      "26      True\n",
      "27     False\n",
      "28      True\n",
      "29      True\n",
      "       ...  \n",
      "861    False\n",
      "862    False\n",
      "863     True\n",
      "864    False\n",
      "865    False\n",
      "866    False\n",
      "867    False\n",
      "868     True\n",
      "869    False\n",
      "870    False\n",
      "871    False\n",
      "872    False\n",
      "873    False\n",
      "874    False\n",
      "875    False\n",
      "876    False\n",
      "877    False\n",
      "878     True\n",
      "879    False\n",
      "880    False\n",
      "881    False\n",
      "882    False\n",
      "883    False\n",
      "884    False\n",
      "885    False\n",
      "886    False\n",
      "887    False\n",
      "888     True\n",
      "889    False\n",
      "890    False\n",
      "Name: Age, dtype: bool\n",
      "177\n"
     ]
    }
   ],
   "source": [
    "import pandas as pd\n",
    "import numpy as np\n",
    "ts=pd.read_csv(\"C:\\\\Users\\\\hzg0601\\\\Desktop\\\\books\\\\titanic_train.csv\")\n",
    "#ts.head\n",
    "age=ts[\"Age\"]\n",
    "age_is_null=pd.isnull(age)\n",
    "print(age_is_null)\n",
    "ant=age[age_is_null]\n",
    "age_nc=len(ant)\n",
    "print(age_nc)\n",
    "cma=ts[\"Age\"][age_is_null==0]\n",
    "scma=ts[\"Age\"].mean\n",
    "pa_cl=[1,2,3]\n",
    "f_b_c={}\n",
    "for i in pa_cl:\n",
    "    pc_r=ts[ts[\"Pclass\"]==i]\n",
    "    pc_f=pc_r[\"Fare\"]\n",
    "    f_f_c=pc_f.mean()\n",
    "    f_b_c[i]=f_f_c\n",
    "#print(f_b_c)"
   ]
  },
  {
   "cell_type": "code",
   "execution_count": 86,
   "metadata": {},
   "outputs": [
    {
     "name": "stdout",
     "output_type": "stream",
     "text": [
      "PassengerId      0\n",
      "Survived         0\n",
      "Pclass           0\n",
      "Name             0\n",
      "Sex              0\n",
      "Age            177\n",
      "SibSp            0\n",
      "Parch            0\n",
      "Ticket           0\n",
      "Fare             0\n",
      "Cabin          687\n",
      "Embarked         2\n",
      "dtype: int64\n"
     ]
    }
   ],
   "source": [
    "pa_su=ts.pivot_table(index=\"Pclass\",values=\"Survived\",aggfunc=np.mean)#数据投石表\n",
    "pa_a=ts.pivot_table(index=\"Pclass\",values=\"Age\")#默认函数为均值\n",
    "po_st=ts.pivot_table(index=\"Embarked\",values=[\"Fare\",\"Survived\"],aggfunc=np.sum)\n",
    "dropts=ts.dropna(axis=1)#0是列，1是行\n",
    "ri83a=ts.loc[83,\"Age\"]\n",
    "nts=ts.sort_values(\"Age\",ascending=0)\n",
    "tsre=nts.reset_index(drop=1)#从新编索引\n",
    "##.apply传递函数\n",
    "\n",
    "def not_null_count(column):\n",
    "    column_null=pd.isnull(column)\n",
    "    null=column[column_null]\n",
    "    return len(null)\n",
    "column_null_count=ts.apply(not_null_count)\n",
    "#print(column_null_count)"
   ]
  },
  {
   "cell_type": "code",
   "execution_count": 107,
   "metadata": {},
   "outputs": [],
   "source": [
    "#######################Series#############################\n",
    "fandango=pd.read_csv(\"C:\\\\Users\\\\hzg0601\\\\Desktop\\\\fandango_score_comparison.csv\")\n",
    "series_film=fandango[\"FILM\"]\n",
    "series_rt=fandango[\"RottenTomatoes\"]\n",
    "from pandas import Series\n",
    "film_names=series_film.values\n",
    "rt_scores=series_rt.values\n",
    "se_cu=Series(rt_scores,index=film_names)\n",
    "#se_cu[[\"Minions (2015)\",\"Leviathan (2014)\"]]\n",
    "#se_cu[5:10]"
   ]
  },
  {
   "cell_type": "code",
   "execution_count": 97,
   "metadata": {
    "collapsed": true
   },
   "outputs": [],
   "source": [
    "or_in=se_cu.index.tolist()\n",
    "sin=sorted(or_in)\n",
    "s_b_i=se_cu.reindex(sin)"
   ]
  },
  {
   "cell_type": "code",
   "execution_count": 106,
   "metadata": {},
   "outputs": [],
   "source": [
    "#se_cu.sort_index()\n",
    "#se_cu.sort_values()\n"
   ]
  },
  {
   "cell_type": "code",
   "execution_count": 104,
   "metadata": {},
   "outputs": [
    {
     "data": {
      "text/plain": [
       "100"
      ]
     },
     "execution_count": 104,
     "metadata": {},
     "output_type": "execute_result"
    }
   ],
   "source": [
    "#print(np.add(se_cu,se_cu))#求和\n",
    "np.sin(se_cu)\n",
    "np.max(se_cu)"
   ]
  },
  {
   "cell_type": "code",
   "execution_count": 109,
   "metadata": {},
   "outputs": [],
   "source": [
    "#sss=se_cu>50\n",
    "#ssb=se_cu<70\n",
    "#sss&ssb\n"
   ]
  },
  {
   "cell_type": "code",
   "execution_count": 110,
   "metadata": {
    "collapsed": true
   },
   "outputs": [],
   "source": [
    "fandango_films=fandango.set_index(\"FILM\",drop=0)\n",
    "fandango_films[\"Minions (2015)\":\"Hot TUb Time Machine 2 (2015)\"]\n",
    "fandango_films.loc[\"Minions (2015)\":\"Hot TUb Time Machine 2 (2015)\"]#按字母索引"
   ]
  },
  {
   "cell_type": "code",
   "execution_count": null,
   "metadata": {
    "collapsed": true
   },
   "outputs": [],
   "source": [
    "#lambda x:np.std(xxx)"
   ]
  }
 ],
 "metadata": {
  "kernelspec": {
   "display_name": "Python 3",
   "language": "python",
   "name": "python3"
  },
  "language_info": {
   "codemirror_mode": {
    "name": "ipython",
    "version": 3
   },
   "file_extension": ".py",
   "mimetype": "text/x-python",
   "name": "python",
   "nbconvert_exporter": "python",
   "pygments_lexer": "ipython3",
   "version": "3.6.4"
  }
 },
 "nbformat": 4,
 "nbformat_minor": 2
}
