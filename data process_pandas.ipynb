{
 "cells": [
  {
   "cell_type": "code",
   "execution_count": 2,
   "metadata": {},
   "outputs": [],
   "source": [
    "#创建series对象\n",
    "#标量;列表;字典;ndarray;函数\n",
    "import pandas as pd\n",
    "import numpy as np\n",
    "a=pd.Series(4,index=['a','b','c'])\n",
    "b=pd.Series({'a':5,'b':6,'c':7})\n",
    "c=pd.Series({'a':5,'b':6,'c':7},index=['a','b','c','d'])#无对应则为0\n",
    "c=pd.Series([1,2,3],index=['a','b','c'])\n",
    "d=pd.Series(np.arange(6),index=np.arange(9,3,-1))\n"
   ]
  },
  {
   "cell_type": "code",
   "execution_count": 19,
   "metadata": {},
   "outputs": [
    {
     "name": "stdout",
     "output_type": "stream",
     "text": [
      "Index(['a', 'b', 'c', 'd'], dtype='object')\n",
      "[9 8 7 6]\n",
      "c    7\n",
      "a    9\n",
      "dtype: int64\n",
      "a    8103.083928\n",
      "b    2980.957987\n",
      "c    1096.633158\n",
      "d     403.428793\n",
      "dtype: float64\n",
      "a    9\n",
      "b    8\n",
      "dtype: int64\n",
      "True\n",
      "100\n",
      "a    NaN\n",
      "b    NaN\n",
      "c    8.0\n",
      "d    8.0\n",
      "e    NaN\n",
      "dtype: float64\n"
     ]
    }
   ],
   "source": [
    "#基本操作\n",
    "print(b.index)\n",
    "print(b.values)\n",
    "print(b[['c','a']])#索引切片\n",
    "print(np.exp(b))\n",
    "print(b[b>b.median()])\n",
    "print('c' in b)\n",
    "print(b.get('f',100))#如果不存在则添加,存在则返回值\n",
    "b.name='索引'#命名\n",
    "\n",
    "a=pd.Series([1,2,3],['c','d','e'])\n",
    "b=pd.Series([9,8,7,6],['a','b','c','d'])\n",
    "print(a+b)#自动对齐索引"
   ]
  },
  {
   "cell_type": "code",
   "execution_count": 36,
   "metadata": {},
   "outputs": [
    {
     "data": {
      "text/plain": [
       "one    3\n",
       "two    7\n",
       "Name: c, dtype: int64"
      ]
     },
     "execution_count": 36,
     "metadata": {},
     "output_type": "execute_result"
    }
   ],
   "source": [
    "#dataframe\n",
    "#从ndarray创建\n",
    "a=pd.DataFrame(np.arange(10).reshape(2,5))\n",
    "#从字典创建\n",
    "dt={'one':pd.Series([1,2,3],index=['a','b','c']),'two':pd.Series([9,8,7,6],index=['a','b','c','d'])}\n",
    "b=pd.DataFrame(dt,index=['b','c','d'],columns=['two','three'])\n",
    "\n",
    "c=pd.DataFrame(dt)\n",
    "\n",
    "d1={'one':[1,2,3,4],'two':[9,8,7,6]}\n",
    "d=pd.DataFrame(d1,index=['a','b','c','d'])\n",
    "d.index\n",
    "d.columns\n",
    "d.values\n",
    "d['one']['a']#先取列,后索引\n",
    "d.loc['b']['one']#loc取索引,后取列\n",
    "d.iloc[2]#iloc取数字索引\n"
   ]
  },
  {
   "cell_type": "code",
   "execution_count": 39,
   "metadata": {},
   "outputs": [
    {
     "data": {
      "text/html": [
       "<div>\n",
       "<style scoped>\n",
       "    .dataframe tbody tr th:only-of-type {\n",
       "        vertical-align: middle;\n",
       "    }\n",
       "\n",
       "    .dataframe tbody tr th {\n",
       "        vertical-align: top;\n",
       "    }\n",
       "\n",
       "    .dataframe thead th {\n",
       "        text-align: right;\n",
       "    }\n",
       "</style>\n",
       "<table border=\"1\" class=\"dataframe\">\n",
       "  <thead>\n",
       "    <tr style=\"text-align: right;\">\n",
       "      <th></th>\n",
       "      <th>one</th>\n",
       "      <th>two</th>\n",
       "      <th>three</th>\n",
       "    </tr>\n",
       "  </thead>\n",
       "  <tbody>\n",
       "    <tr>\n",
       "      <th>a</th>\n",
       "      <td>1</td>\n",
       "      <td>9</td>\n",
       "      <td>200</td>\n",
       "    </tr>\n",
       "    <tr>\n",
       "      <th>b</th>\n",
       "      <td>2</td>\n",
       "      <td>8</td>\n",
       "      <td>200</td>\n",
       "    </tr>\n",
       "    <tr>\n",
       "      <th>c</th>\n",
       "      <td>3</td>\n",
       "      <td>7</td>\n",
       "      <td>200</td>\n",
       "    </tr>\n",
       "    <tr>\n",
       "      <th>d</th>\n",
       "      <td>4</td>\n",
       "      <td>6</td>\n",
       "      <td>200</td>\n",
       "    </tr>\n",
       "  </tbody>\n",
       "</table>\n",
       "</div>"
      ],
      "text/plain": [
       "   one  two  three\n",
       "a    1    9    200\n",
       "b    2    8    200\n",
       "c    3    7    200\n",
       "d    4    6    200"
      ]
     },
     "execution_count": 39,
     "metadata": {},
     "output_type": "execute_result"
    }
   ],
   "source": [
    "#数据类型操作\n",
    "    #.reindex(index,columns,fill_value,method,limit,copy)\n",
    "    #fill_value重新索引,用于填充缺失位置的值;method,填充方法,ffill当前向前填充,bfill向后填充;limit,最大填充量,\n",
    "    #copy.默认为True,生成新的对象,False,新旧相等不负责\n",
    "dn=d.columns.insert(3,'three')\n",
    "e=d.reindex(columns=dn,fill_value=200)\n",
    "e\n",
    "\n",
    "#索引/列类型的常用方法,索引和列都是索引对象,不可修改\n",
    "    #.append,连接另一个index对象,产生新的对象\n",
    "    #.diff,计算差集,产生新的index\n",
    "    #.intersection,计算交集\n",
    "    #union,计算并集\n",
    "    #delete,删除loc位置处的元素\n",
    "    #insert,在loc位置增加一个元素e\n",
    "    #drop,删除指定行或列索引,默认为0轴,如需删除1轴,则需指定\n",
    "    \n",
    "    "
   ]
  },
  {
   "cell_type": "code",
   "execution_count": null,
   "metadata": {},
   "outputs": [],
   "source": [
    "#运算\n",
    "    #算术运算,根据行列索引计算,对应位置运算,补齐后运算,补齐时填充NaN,默认产生浮点数\n",
    "    #二维和一维,一维和零维间为广播运算,即低位的元素会与高维的高一维度分别运算\n",
    "    #数学运算将会产生新的对象.add,.sub,.mul,div\n",
    "    #a.div(b,fill_value=0,axis=0)\n",
    "    #series,默认为行\n",
    "    \n",
    "    #比较运算,\n",
    "        #只能比较相同索引的元素,不进行补齐,shape不同将会报错\n",
    "        #不同维度间采用广播运算\n",
    "        #返回布尔元素对象\n"
   ]
  }
 ],
 "metadata": {
  "kernelspec": {
   "display_name": "Python 3",
   "language": "python",
   "name": "python3"
  },
  "language_info": {
   "codemirror_mode": {
    "name": "ipython",
    "version": 3
   },
   "file_extension": ".py",
   "mimetype": "text/x-python",
   "name": "python",
   "nbconvert_exporter": "python",
   "pygments_lexer": "ipython3",
   "version": "3.6.4"
  }
 },
 "nbformat": 4,
 "nbformat_minor": 2
}
